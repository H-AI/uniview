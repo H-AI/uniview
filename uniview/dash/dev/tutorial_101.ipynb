{
 "cells": [
  {
   "cell_type": "markdown",
   "metadata": {},
   "source": [
    "# A fundamental example\n",
    "\n",
    "In this example, a dropdown selection option is implemented to allow choosing data to display."
   ]
  },
  {
   "cell_type": "code",
   "execution_count": 1,
   "metadata": {},
   "outputs": [],
   "source": [
    "from jupyter_dash import JupyterDash\n",
    "from dash import dcc, html\n",
    "from dash.dependencies import Input, Output\n",
    "import plotly.graph_objects as go\n",
    "import plotly.express as px"
   ]
  },
  {
   "cell_type": "markdown",
   "metadata": {},
   "source": [
    "If in pure python script, use\n",
    "```python\n",
    "import dash\n",
    "app = dash.Dash(__name__)\n",
    "```"
   ]
  },
  {
   "cell_type": "code",
   "execution_count": 2,
   "metadata": {},
   "outputs": [],
   "source": [
    "app = JupyterDash(__name__)"
   ]
  },
  {
   "cell_type": "code",
   "execution_count": 3,
   "metadata": {},
   "outputs": [],
   "source": [
    "# Layout\n",
    "app.layout = html.Div(\n",
    "    id=\"parent\",\n",
    "    children=[\n",
    "        html.H1(\n",
    "            id=\"H1\",\n",
    "            children=\"Styling using html components\",\n",
    "            style={\"textAlign\": \"center\", \"marginTop\": 40, \"marginBottom\": 40},\n",
    "        ),\n",
    "        dcc.Dropdown(\n",
    "            id=\"dropdown\",\n",
    "            options=[\n",
    "                {\"label\": \"Google\", \"value\": \"GOOG\"},\n",
    "                {\"label\": \"Apple\", \"value\": \"AAPL\"},\n",
    "                {\"label\": \"Amazon\", \"value\": \"AMZN\"},\n",
    "            ],\n",
    "            value=\"GOOG\",\n",
    "        ),\n",
    "        dcc.Graph(id=\"bar_plot\"),\n",
    "    ],\n",
    ")"
   ]
  },
  {
   "cell_type": "code",
   "execution_count": 9,
   "metadata": {},
   "outputs": [
    {
     "name": "stdout",
     "output_type": "stream",
     "text": [
      "<class 'pandas.core.frame.DataFrame'>\n",
      "RangeIndex: 105 entries, 0 to 104\n",
      "Data columns (total 7 columns):\n",
      " #   Column  Non-Null Count  Dtype  \n",
      "---  ------  --------------  -----  \n",
      " 0   date    105 non-null    object \n",
      " 1   GOOG    105 non-null    float64\n",
      " 2   AAPL    105 non-null    float64\n",
      " 3   AMZN    105 non-null    float64\n",
      " 4   FB      105 non-null    float64\n",
      " 5   NFLX    105 non-null    float64\n",
      " 6   MSFT    105 non-null    float64\n",
      "dtypes: float64(6), object(1)\n",
      "memory usage: 5.9+ KB\n"
     ]
    }
   ],
   "source": [
    "# Load data\n",
    "df = px.data.stocks()\n",
    "df.info()"
   ]
  },
  {
   "cell_type": "markdown",
   "metadata": {},
   "source": [
    "## More about callback\n",
    "1. By writing this decorator, we're telling Dash to call this function for us\n",
    "    whenever the value of the \"input\" component (the text box) changes in\n",
    "    order to update the children of the \"output\" component on the page\n",
    "    (the HTML div).\n",
    "2. You can use any name for the function that is wrapped by the @app.callback\n",
    "    decorator. The convention is that the name describes the callback\n",
    "    output(s)."
   ]
  },
  {
   "cell_type": "code",
   "execution_count": 5,
   "metadata": {},
   "outputs": [],
   "source": [
    "@app.callback(\n",
    "    Output(component_id=\"bar_plot\", component_property=\"figure\"),\n",
    "    [Input(component_id=\"dropdown\", component_property=\"value\")],\n",
    ")\n",
    "def graph_update(dropdown_value):\n",
    "    print(dropdown_value)\n",
    "    fig = go.Figure(\n",
    "        [\n",
    "            go.Scatter(\n",
    "                x=df[\"date\"],\n",
    "                y=df[\"{}\".format(dropdown_value)],\n",
    "                line=dict(color=\"firebrick\", width=4),\n",
    "            )\n",
    "        ]\n",
    "    )\n",
    "\n",
    "    fig.update_layout(\n",
    "        title=\"Stock prices over time\",\n",
    "        xaxis_title=\"Dates\",\n",
    "        yaxis_title=\"Prices\",\n",
    "    )\n",
    "    return fig"
   ]
  },
  {
   "cell_type": "code",
   "execution_count": 8,
   "metadata": {},
   "outputs": [
    {
     "data": {
      "text/html": [
       "\n",
       "        <iframe\n",
       "            width=\"100%\"\n",
       "            height=\"650\"\n",
       "            src=\"http://127.0.0.1:8051/\"\n",
       "            frameborder=\"0\"\n",
       "            allowfullscreen\n",
       "            \n",
       "        ></iframe>\n",
       "        "
      ],
      "text/plain": [
       "<IPython.lib.display.IFrame at 0x10dab5e50>"
      ]
     },
     "metadata": {},
     "output_type": "display_data"
    },
    {
     "name": "stdout",
     "output_type": "stream",
     "text": [
      "GOOG\n",
      "AMZN\n"
     ]
    }
   ],
   "source": [
    "app.run_server(mode='inline', port=8051)"
   ]
  },
  {
   "cell_type": "code",
   "execution_count": null,
   "metadata": {},
   "outputs": [],
   "source": []
  }
 ],
 "metadata": {
  "interpreter": {
   "hash": "0f5ba97a6d8ff0ce06e3a13d94c9424fc132ba8525f886b5106c45db09070d29"
  },
  "kernelspec": {
   "display_name": "Python 3.8.5 64-bit ('uniview-3P5az_0Y-py3.8': poetry)",
   "language": "python",
   "name": "python3"
  },
  "language_info": {
   "codemirror_mode": {
    "name": "ipython",
    "version": 3
   },
   "file_extension": ".py",
   "mimetype": "text/x-python",
   "name": "python",
   "nbconvert_exporter": "python",
   "pygments_lexer": "ipython3",
   "version": "3.8.5"
  },
  "orig_nbformat": 4
 },
 "nbformat": 4,
 "nbformat_minor": 2
}
